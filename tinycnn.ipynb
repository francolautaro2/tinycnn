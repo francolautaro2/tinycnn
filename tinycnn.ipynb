{
 "cells": [
  {
   "cell_type": "code",
   "execution_count": 45,
   "id": "06decc8b-685c-4018-a7ac-005ac2b280df",
   "metadata": {},
   "outputs": [],
   "source": [
    "import numpy as np\n",
    "from PIL import Image\n",
    "import math as m"
   ]
  },
  {
   "cell_type": "code",
   "execution_count": 61,
   "id": "eea654aa-2837-4613-92ca-1e72ea899cfa",
   "metadata": {},
   "outputs": [],
   "source": [
    "class TinyCNN:\n",
    "    def __init__(self, x):\n",
    "        self.kernel = np.arange(2,11).reshape(3,3)\n",
    "        self.weights = np.random.randn(1, 3)\n",
    "        \n",
    "    def conv(self, x): # 3x3 filter application to a 28x28 matrix input\n",
    "        # 10x10 matrix output\n",
    "        #output = np.zeros()\n",
    "        output = np.zeros((10,10))\n",
    "        for i in range(len(output)):\n",
    "            for j in range(len(output)):\n",
    "                sub_matrix = x[i:i+3, j:j+3]\n",
    "                output[i,j] = np.sum(sub_matrix * self.kernel)\n",
    "        return output\n",
    "        \n",
    "    def max_pooling(self, x): # return a 5x5 matrix \n",
    "        M, N = x.shape\n",
    "        k = 2\n",
    "        l = 2\n",
    "        MK = M//k\n",
    "        NL = N//l\n",
    "        \n",
    "        return x[:MK*k, :NL*l].reshape(MK, k, NL, l).max(axis=(1,3))\n",
    "\n",
    "    def flatten(self, x):\n",
    "        return x.flatten()\n",
    "\n",
    "    def sigmoid(self, x): # activation function\n",
    "        return 1 / (1+m.exp(-x))\n",
    "\n",
    "    def forward(self, x):\n",
    "        pass\n",
    "\n",
    "    def backward(self,x):\n",
    "        pass\n",
    "\n",
    "    def train(self):\n",
    "        pass\n"
   ]
  },
  {
   "cell_type": "code",
   "execution_count": 56,
   "id": "9516e9b0-215f-410d-bbd2-b04abcd27f88",
   "metadata": {},
   "outputs": [],
   "source": [
    "model = TinyCNN()\n",
    "input_x = np.random.rand(28,28)\n",
    "output = model.conv(input_x)\n",
    "pooling = model.max_pooling(output)"
   ]
  },
  {
   "cell_type": "code",
   "execution_count": 57,
   "id": "1e4d2edd-4723-4634-a074-afb7fe25d45b",
   "metadata": {},
   "outputs": [
    {
     "data": {
      "text/plain": [
       "array([31.3907546 , 26.81233162, 31.69643903, 27.24714697, 24.62999928,\n",
       "       38.56397401, 35.57276246, 29.50635099, 31.74519165, 26.42651501,\n",
       "       36.2446076 , 36.69179047, 27.85828967, 26.14140873, 24.65962325,\n",
       "       28.8228183 , 33.54385792, 24.62534084, 25.85798341, 29.5744845 ,\n",
       "       35.3833045 , 39.68197353, 34.63730218, 32.02828123, 32.54411343])"
      ]
     },
     "execution_count": 57,
     "metadata": {},
     "output_type": "execute_result"
    }
   ],
   "source": [
    "model.flatten(pooling)"
   ]
  },
  {
   "cell_type": "code",
   "execution_count": 63,
   "id": "23f33784-735d-4a2a-908d-d9ed25bf60e5",
   "metadata": {},
   "outputs": [
    {
     "data": {
      "text/plain": [
       "array([[0.91267807, 0.51759629, 0.67310369]])"
      ]
     },
     "execution_count": 63,
     "metadata": {},
     "output_type": "execute_result"
    }
   ],
   "source": [
    "np.random.rand(1, 3)"
   ]
  }
 ],
 "metadata": {
  "kernelspec": {
   "display_name": "Python 3 (ipykernel)",
   "language": "python",
   "name": "python3"
  },
  "language_info": {
   "codemirror_mode": {
    "name": "ipython",
    "version": 3
   },
   "file_extension": ".py",
   "mimetype": "text/x-python",
   "name": "python",
   "nbconvert_exporter": "python",
   "pygments_lexer": "ipython3",
   "version": "3.12.2"
  }
 },
 "nbformat": 4,
 "nbformat_minor": 5
}
