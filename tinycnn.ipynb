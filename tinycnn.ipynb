{
 "cells": [
  {
   "cell_type": "code",
   "execution_count": 45,
   "id": "06decc8b-685c-4018-a7ac-005ac2b280df",
   "metadata": {},
   "outputs": [],
   "source": [
    "import numpy as np\n",
    "from PIL import Image\n",
    "import math as m"
   ]
  },
  {
   "cell_type": "code",
   "execution_count": 81,
   "id": "eea654aa-2837-4613-92ca-1e72ea899cfa",
   "metadata": {},
   "outputs": [],
   "source": [
    "class TinyCNN:\n",
    "    def __init__(self):\n",
    "        self.kernel = np.arange(2,11).reshape(3,3)\n",
    "        self.weights = np.random.randn(1, 3)\n",
    "        \n",
    "    def conv(self, x): # 3x3 filter application to a 28x28 matrix input\n",
    "        # 10x10 matrix output\n",
    "        #output = np.zeros()\n",
    "        padded_x = np.pad(x, pad_width=1, mode='constant', constant_values=0)  # padding = (3-1)/2 = 1\n",
    "        output = np.zeros((10,10))\n",
    "    \n",
    "        for i in range(len(output)):\n",
    "            for j in range(len(output)):\n",
    "                sub_matrix = padded_x[i:i+3, j:j+3]\n",
    "                output[i,j] = np.sum(sub_matrix * self.kernel)\n",
    "    \n",
    "        return output, padded_x\n",
    "        \n",
    "    def max_pooling(self, x): # return a 5x5 matrix \n",
    "        M, N = x.shape\n",
    "        k = 2\n",
    "        l = 2\n",
    "        MK = M//k\n",
    "        NL = N//l\n",
    "        \n",
    "        return x[:MK*k, :NL*l].reshape(MK, k, NL, l).max(axis=(1,3))\n",
    "\n",
    "    def flatten(self, x):\n",
    "        return x.flatten()\n",
    "\n",
    "    def sigmoid(self, x): # activation function\n",
    "        return 1 / (1+m.exp(-x))\n",
    "\n",
    "    def forward(self, x):\n",
    "        pass\n",
    "\n",
    "    def backward(self,x):\n",
    "        pass\n",
    "\n",
    "    def train(self):\n",
    "        pass\n"
   ]
  },
  {
   "cell_type": "code",
   "execution_count": 86,
   "id": "9516e9b0-215f-410d-bbd2-b04abcd27f88",
   "metadata": {},
   "outputs": [],
   "source": [
    "model = TinyCNN()\n",
    "input_x = np.random.rand(28,28)\n",
    "output, pad = model.conv(input_x)"
   ]
  },
  {
   "cell_type": "code",
   "execution_count": 87,
   "id": "1e4d2edd-4723-4634-a074-afb7fe25d45b",
   "metadata": {},
   "outputs": [
    {
     "data": {
      "text/plain": [
       "array([27.62717821, 32.58465022, 39.21630596, 29.87711118, 22.73377617,\n",
       "       23.88620477, 30.1913928 , 39.32814923, 36.717589  , 34.14183373,\n",
       "       25.74411852, 33.64034005, 37.35686189, 40.70226081, 37.745065  ,\n",
       "       20.49521977, 28.85433127, 28.28294217, 31.51824337, 31.5058798 ,\n",
       "       19.26424901, 26.55471636, 24.68942477, 29.63313553, 23.52267663])"
      ]
     },
     "execution_count": 87,
     "metadata": {},
     "output_type": "execute_result"
    }
   ],
   "source": [
    "pooling = model.max_pooling(output)\n",
    "model.flatten(pooling)"
   ]
  }
 ],
 "metadata": {
  "kernelspec": {
   "display_name": "Python 3 (ipykernel)",
   "language": "python",
   "name": "python3"
  },
  "language_info": {
   "codemirror_mode": {
    "name": "ipython",
    "version": 3
   },
   "file_extension": ".py",
   "mimetype": "text/x-python",
   "name": "python",
   "nbconvert_exporter": "python",
   "pygments_lexer": "ipython3",
   "version": "3.12.2"
  }
 },
 "nbformat": 4,
 "nbformat_minor": 5
}
