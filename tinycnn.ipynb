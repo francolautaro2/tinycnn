{
 "cells": [
  {
   "cell_type": "code",
   "execution_count": 90,
   "id": "06decc8b-685c-4018-a7ac-005ac2b280df",
   "metadata": {},
   "outputs": [],
   "source": [
    "import numpy as np\n",
    "from PIL import Image\n",
    "import math as m\n",
    "import matplotlib.pyplot as plt"
   ]
  },
  {
   "cell_type": "code",
   "execution_count": 148,
   "id": "eea654aa-2837-4613-92ca-1e72ea899cfa",
   "metadata": {},
   "outputs": [],
   "source": [
    "class TinyCNN:\n",
    "    def __init__(self):\n",
    "        self.kernel = np.array([\n",
    "            [ 1,  0, -1],\n",
    "            [ 2,  0, -2],\n",
    "            [ 1,  0, -1]\n",
    "        ])\n",
    "        self.weights = np.random.uniform(low=-0.1, high=0.1, size=(3,3))\n",
    "        self.biases = 0.01\n",
    "        \n",
    "    def conv(self, x): # 3x3 filter application to a 28x28 matrix input\n",
    "        # 10x10 matrix output\n",
    "        #output = np.zeros()\n",
    "        padded_x = np.pad(x, pad_width=1, mode='constant', constant_values=0)  # padding = (3-1)/2 = 1\n",
    "        output = np.zeros((10,10))\n",
    "    \n",
    "        for i in range(len(output)):\n",
    "            for j in range(len(output)):\n",
    "                sub_matrix = padded_x[i:i+3, j:j+3]\n",
    "                output[i, j] = np.sum(sub_matrix * self.kernel) + self.biases\n",
    "    \n",
    "        return output\n",
    "        \n",
    "    def max_pooling(self, x): # return a 5x5 matrix \n",
    "        M, N = x.shape\n",
    "        k = 2\n",
    "        l = 2\n",
    "        MK = M//k\n",
    "        NL = N//l\n",
    "        \n",
    "        return x[:MK*k, :NL*l].reshape(MK, k, NL, l).max(axis=(1,3))\n",
    "\n",
    "    def flatten(self, x):\n",
    "        return x.flatten()\n",
    "\n",
    "    def sigmoid(self, x):\n",
    "        # Usar np.exp para manejar arrays\n",
    "        return 1 / (1 + np.exp(-x))\n",
    "\n",
    "    def forward(self, x):\n",
    "        conv_output = self.conv(x)\n",
    "        activated_output = np.maximum(0, conv_output)\n",
    "        pooled_output = self.max_pooling(activated_output)\n",
    "        flattened_output = self.flatten(pooled_output)\n",
    "        final_output = self.sigmoid(flattened_output)\n",
    "        return final_output\n",
    "\n",
    "    def compute_loss(self, y_pred, y_true):\n",
    "        return -np.mean(y_true * np.log(y_pred + 1e-8) + (1-y_true) * np.log(1 - y_pred + 1e-8))\n",
    "\n",
    "    def train(self, X_train, y_train, epochs=10, learning_rate=0.01):\n",
    "        losses = []\n",
    "        for epoch in range(epochs):\n",
    "            epoch_loss = 0\n",
    "            for i in range(len(X_train)):\n",
    "                x = X_train[i]\n",
    "                y_true = y_train[i]\n",
    "                \n",
    "                # Forward pass\n",
    "                y_pred = self.forward(x)\n",
    "                \n",
    "                # Compute loss\n",
    "                loss = self.compute_loss(y_pred, y_true)\n",
    "                epoch_loss += loss\n",
    "                \n",
    "                # Backward pass (simplified version, needs proper implementation)\n",
    "\n",
    "            # average loss\n",
    "            average_loss = epoch_loss / len(X_train)\n",
    "            losses.append(average_loss)\n",
    "            print(f'Epoch {epoch+1}/{epochs}, Loss: {average_loss}')\n",
    "        \n",
    "        # Graficar la pérdida\n",
    "        plt.plot(range(epochs), losses, marker='o')\n",
    "        plt.title('Pérdida durante el entrenamiento')\n",
    "        plt.xlabel('Épocas')\n",
    "        plt.ylabel('Pérdida')\n",
    "        plt.grid(True)\n",
    "        plt.show()"
   ]
  },
  {
   "cell_type": "code",
   "execution_count": 114,
   "id": "decf9cbd-fef4-467b-9a66-304dc0a466d9",
   "metadata": {},
   "outputs": [],
   "source": [
    "def load_image(image_path):\n",
    "    img = Image.open(image_path).convert('L')  \n",
    "    img = img.resize((28, 28), Image.BICUBIC)\n",
    "    return np.array(img)"
   ]
  },
  {
   "cell_type": "code",
   "execution_count": 149,
   "id": "60d7739c-4dea-4cf2-946f-268400b44c18",
   "metadata": {},
   "outputs": [
    {
     "name": "stdout",
     "output_type": "stream",
     "text": [
      "Epoch 1/10, Loss: 0.8007996475172661\n",
      "Epoch 2/10, Loss: 0.8007996475172661\n",
      "Epoch 3/10, Loss: 0.8007996475172661\n",
      "Epoch 4/10, Loss: 0.8007996475172661\n",
      "Epoch 5/10, Loss: 0.8007996475172661\n",
      "Epoch 6/10, Loss: 0.8007996475172661\n",
      "Epoch 7/10, Loss: 0.8007996475172661\n",
      "Epoch 8/10, Loss: 0.8007996475172661\n",
      "Epoch 9/10, Loss: 0.8007996475172661\n",
      "Epoch 10/10, Loss: 0.8007996475172661\n"
     ]
    },
    {
     "data": {
      "image/png": "[encoded data removed]",
      "text/plain": [
       "<Figure size 640x480 with 1 Axes>"
      ]
     },
     "metadata": {},
     "output_type": "display_data"
    }
   ],
   "source": [
    "X_train = np.random.rand(10, 28, 28)  # 10 imágenes de 28x28\n",
    "y_train = np.random.randint(0, 2, size=(10, 5*5))  # Etiquetas (clases binarias) para cada imagen\n",
    "\n",
    "tiny_cnn = TinyCNN()\n",
    "tiny_cnn.train(X_train, y_train, epochs=10, learning_rate=0.01)"
   ]
  },
  {
   "cell_type": "code",
   "execution_count": null,
   "id": "7d22b138-8533-4baa-8618-b805d0181c2c",
   "metadata": {},
   "outputs": [],
   "source": []
  }
 ],
 "metadata": {
  "kernelspec": {
   "display_name": "Python 3 (ipykernel)",
   "language": "python",
   "name": "python3"
  },
  "language_info": {
   "codemirror_mode": {
    "name": "ipython",
    "version": 3
   },
   "file_extension": ".py",
   "mimetype": "text/x-python",
   "name": "python",
   "nbconvert_exporter": "python",
   "pygments_lexer": "ipython3",
   "version": "3.12.2"
  }
 },
 "nbformat": 4,
 "nbformat_minor": 5
}
